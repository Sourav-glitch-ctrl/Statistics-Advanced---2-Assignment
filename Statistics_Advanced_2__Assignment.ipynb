{
  "nbformat": 4,
  "nbformat_minor": 0,
  "metadata": {
    "colab": {
      "provenance": []
    },
    "kernelspec": {
      "name": "python3",
      "display_name": "Python 3"
    },
    "language_info": {
      "name": "python"
    }
  },
  "cells": [
    {
      "cell_type": "markdown",
      "source": [
        "# Statistics Advanced - 2 | Assignment\n",
        "### **Q 1: What is hypothesis testing in statistics?**\n",
        "Answer:\n",
        "- Hypothesis testing is a way to check if what we see in a sample is true for the whole population. It helps decide if there is enough evidence to support a claim or not.\n",
        "\n",
        "### **Q 2: What is the null hypothesis, and how does it differ from the alternative hypothesis?**\n",
        "Answer:\n",
        "\n",
        "- The null hypothesis (H₀) says there is no effect or difference.\n",
        "The alternative hypothesis (H₁) says there is an effect or difference.\n",
        "We test data to see if we can reject H₀ in favor of H₁.\n",
        "\n",
        "### **Q 3: Explain the significance level in hypothesis testing and its role in deciding the outcome of a test.**\n",
        "Answer:\n",
        "- The significance level (α) is the cut-off for deciding results (commonly 0.05). If the p-value is less than α, we reject H₀. It also tells us the chance of making a mistake (Type I error).\n",
        "\n",
        "### **Q 4: What are Type I and Type II errors? Give examples of each.**\n",
        "Answer:\n",
        "\n",
        "- Type I error: Rejecting H₀ when it is true. Example: Saying a medicine works when it doesn’t.\n",
        "\n",
        "- Type II error: Not rejecting H₀ when it is false. Example: Saying a medicine doesn’t work when it actually does.\n",
        "\n",
        "### **Q5: What is the difference between a Z-test and a T-test? Explain when to use each.**\n",
        "Answer:\n",
        "\n",
        "- Z-test: Used for large samples (n > 30) or when population variance is known.\n",
        "\n",
        "- T-test: Used for small samples (n ≤ 30) or when variance is unknown.\n",
        "\n",
        "### **Q.6: Write a Python program to generate a binomial distribution with n=10 and p=0.5, then plot its histogram**"
      ],
      "metadata": {
        "id": "_Jzp3ylRK0ZQ"
      }
    },
    {
      "cell_type": "code",
      "source": [
        "import numpy as np\n",
        "import matplotlib.pyplot as plt\n",
        "n=10\n",
        "p=0.5\n",
        "new= np.random.binomial(n,p,1000)\n",
        "plt.hist(new, bins=20)\n",
        "plt.show()"
      ],
      "metadata": {
        "colab": {
          "base_uri": "https://localhost:8080/",
          "height": 432
        },
        "id": "uJPlAeXoK6EJ",
        "outputId": "0e5c8877-b986-4fb5-875b-89003e2523d2"
      },
      "execution_count": 7,
      "outputs": [
        {
          "output_type": "display_data",
          "data": {
            "text/plain": [
              "<Figure size 640x480 with 1 Axes>"
            ],
            "image/png": "[encoded data removed]"
          },
          "metadata": {}
        }
      ]
    },
    {
      "cell_type": "markdown",
      "source": [
        "### **Question 7: Implement hypothesis testing using Z-statistics for a sample dataset in Python. Show the Python code and interpret the results. sample_data = [49.1, 50.2, 51.0, 48.7, 50.5, 49.8, 50.3, 50.7, 50.2, 49.6, 50.1, 49.9, 50.8, 50.4, 48.9, 50.6, 50.0, 49.7, 50.2, 49.5, 50.1, 50.3, 50.4, 50.5, 50.0, 50.7, 49.3, 49.8, 50.2, 50.9, 50.3, 50.4, 50.0, 49.7, 50.5, 49.9]**\n"
      ],
      "metadata": {
        "id": "BD5zJRNOO-Yx"
      }
    },
    {
      "cell_type": "code",
      "source": [
        "!pip install scipy"
      ],
      "metadata": {
        "colab": {
          "base_uri": "https://localhost:8080/"
        },
        "id": "vPrbVxQwQBO9",
        "outputId": "0accd362-901f-40ba-8be6-361cbbbe96d0"
      },
      "execution_count": 9,
      "outputs": [
        {
          "output_type": "stream",
          "name": "stdout",
          "text": [
            "Requirement already satisfied: scipy in /usr/local/lib/python3.12/dist-packages (1.16.2)\n",
            "Requirement already satisfied: numpy<2.6,>=1.25.2 in /usr/local/lib/python3.12/dist-packages (from scipy) (2.0.2)\n"
          ]
        }
      ]
    },
    {
      "cell_type": "code",
      "source": [
        "from scipy import stats\n",
        "sample_data = [49.1, 50.2, 51.0, 48.7, 50.5, 49.8, 50.3, 50.7, 50.2, 49.6, 50.1, 49.9, 50.8, 50.4, 48.9, 50.6, 50.0, 49.7, 50.2, 49.5, 50.1, 50.3, 50.4, 50.5, 50.0, 50.7, 49.3, 49.8, 50.2, 50.9, 50.3, 50.4, 50.0, 49.7, 50.5, 49.9]\n",
        "mean_pop = 50\n",
        "mean_sample = np.mean(sample_data)\n",
        "std_sample = np.std(sample_data)\n",
        "n = len(sample_data)\n",
        "\n",
        "z_stat = (mean_sample - mean_pop) / (std_sample / np.sqrt(n))\n",
        "p_value = 2 * (1 - stats.norm.cdf(abs(z_stat)))\n",
        "\n",
        "print(\"Z:\", z_stat, \"P-value:\", p_value)"
      ],
      "metadata": {
        "colab": {
          "base_uri": "https://localhost:8080/"
        },
        "id": "w4YEtenJPK_C",
        "outputId": "8fa0a0e5-bcf6-464c-946c-9f6338a72570"
      },
      "execution_count": 12,
      "outputs": [
        {
          "output_type": "stream",
          "name": "stdout",
          "text": [
            "Z: 1.0081275362005009 P-value: 0.3133932398638155\n"
          ]
        }
      ]
    },
    {
      "cell_type": "markdown",
      "source": [
        "### **Question 8: Write a Python script to simulate data from a normal distribution and calculate the 95% confidence interval for its mean. Plot the data using Matplotlib.**\n"
      ],
      "metadata": {
        "id": "GDXKKHNYQwAB"
      }
    },
    {
      "cell_type": "code",
      "source": [
        "import numpy as np\n",
        "import matplotlib.pyplot as plt\n",
        "import scipy.stats as stats\n",
        "\n",
        "data = np.random.normal(50, 5, 100)\n",
        "mean = np.mean(data)\n",
        "ci = stats.t.interval(0.95, len(data)-1, loc=mean, scale=stats.sem(data))\n",
        "\n",
        "print(\"Mean:\", mean, \"95% CI:\", ci)\n",
        "\n",
        "plt.hist(data, bins=20, edgecolor='black')\n",
        "\n",
        "plt.show()\n"
      ],
      "metadata": {
        "colab": {
          "base_uri": "https://localhost:8080/",
          "height": 448
        },
        "id": "80_T44LPRPOM",
        "outputId": "f1313595-3b49-4398-f1d8-0e257f073b96"
      },
      "execution_count": 14,
      "outputs": [
        {
          "output_type": "stream",
          "name": "stdout",
          "text": [
            "Mean: 49.6547412447927 95% CI: (np.float64(48.59626491414552), np.float64(50.713217575439884))\n"
          ]
        },
        {
          "output_type": "display_data",
          "data": {
            "text/plain": [
              "<Figure size 640x480 with 1 Axes>"
            ],
            "image/png": "[encoded data removed]"
          },
          "metadata": {}
        }
      ]
    },
    {
      "cell_type": "markdown",
      "source": [
        "### **Question 9: Write a Python function to calculate the Z-scores from a dataset and visualize the standardized data using a histogram. Explain what the Z-scores represent in terms of standard deviations from the mean.**\n",
        "\n"
      ],
      "metadata": {
        "id": "cghgmDh3Roea"
      }
    },
    {
      "cell_type": "code",
      "source": [
        "import numpy as np\n",
        "import matplotlib.pyplot as plt\n",
        "from scipy.stats import zscore\n",
        "\n",
        "data = np.random.normal(50, 5, 100)\n",
        "z_scores = zscore(data)\n",
        "\n",
        "plt.hist(z_scores, bins=20, edgecolor='black')\n",
        "plt.title(\"Z-scores Histogram\")\n",
        "plt.show()\n",
        "\n",
        "print(z_scores[:10])\n"
      ],
      "metadata": {
        "colab": {
          "base_uri": "https://localhost:8080/",
          "height": 488
        },
        "id": "HG0F-MYCRxP0",
        "outputId": "24e56935-431b-445f-b4ad-0e5318a9495f"
      },
      "execution_count": 15,
      "outputs": [
        {
          "output_type": "display_data",
          "data": {
            "text/plain": [
              "<Figure size 640x480 with 1 Axes>"
            ],
            "image/png": "[encoded data removed]"
          },
          "metadata": {}
        },
        {
          "output_type": "stream",
          "name": "stdout",
          "text": [
            "[-0.10749765 -0.82409937  0.60704232 -0.34982439 -0.98235716  1.74121756\n",
            "  0.07684704 -2.14598585 -0.31435985 -0.01782068]\n"
          ]
        }
      ]
    }
  ]
}